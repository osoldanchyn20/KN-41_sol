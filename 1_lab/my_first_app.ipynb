{
 "cells": [
  {
   "cell_type": "code",
   "execution_count": 1,
   "metadata": {},
   "outputs": [
    {
     "name": "stdout",
     "output_type": "stream",
     "text": [
      "Oleksandra start programming at 2024-09-29 18:17:52.363481. Lviv is the best city! ☜(ﾟヮﾟ☜) \n"
     ]
    }
   ],
   "source": [
    "from datetime import datetime\n",
    "name = \"Oleksandra\"\n",
    "location = \"Lviv\"\n",
    "\n",
    "print(f\"{name} start programming at {datetime.now()}. {location} is the best city! ☜(ﾟヮﾟ☜) \")"
   ]
  },
  {
   "cell_type": "markdown",
   "metadata": {},
   "source": [
    "👇 Код від друга GPT:"
   ]
  },
  {
   "cell_type": "code",
   "execution_count": 3,
   "metadata": {},
   "outputs": [
    {
     "name": "stdout",
     "output_type": "stream",
     "text": [
      "May the Force be with you!\n",
      "I've got a bad feeling about this.\n",
      "Do or do not, there is no try.\n",
      "I am one with the Force, and the Force is with me.\n",
      "The Force will be with you, always.\n",
      "Ezra, the Force is my ally and it’s a powerful ally.\n"
     ]
    }
   ],
   "source": [
    "def star_wars_quote():\n",
    "    quotes = [\n",
    "        \"May the Force be with you!\",\n",
    "        \"I've got a bad feeling about this.\",\n",
    "        \"Do or do not, there is no try.\",\n",
    "        \"I am one with the Force, and the Force is with me.\",\n",
    "        \"The Force will be with you, always.\",\n",
    "        \"Ezra, the Force is my ally and it’s a powerful ally.\"  # Цитата з Повстанців\n",
    "    ]\n",
    "    \n",
    "    # Виводить перші три цитати\n",
    "    for i in range(6):\n",
    "        print(quotes[i])\n",
    "\n",
    "star_wars_quote()\n"
   ]
  }
 ],
 "metadata": {
  "kernelspec": {
   "display_name": "Python 3",
   "language": "python",
   "name": "python3"
  },
  "language_info": {
   "codemirror_mode": {
    "name": "ipython",
    "version": 3
   },
   "file_extension": ".py",
   "mimetype": "text/x-python",
   "name": "python",
   "nbconvert_exporter": "python",
   "pygments_lexer": "ipython3",
   "version": "3.12.6"
  }
 },
 "nbformat": 4,
 "nbformat_minor": 2
}
